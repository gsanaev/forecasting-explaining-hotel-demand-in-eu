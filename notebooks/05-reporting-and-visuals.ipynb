{
 "cells": [
  {
   "cell_type": "markdown",
   "id": "2191ebce",
   "metadata": {},
   "source": [
    "## 🧭 Notebook 5 — Robustness and Policy Counterfactuals"
   ]
  },
  {
   "cell_type": "markdown",
   "id": "26d4c2a6",
   "metadata": {},
   "source": [
    "### 🟩 5.0 Setup and Data Loading"
   ]
  },
  {
   "cell_type": "code",
   "execution_count": 1,
   "id": "a9eed259",
   "metadata": {},
   "outputs": [
    {
     "name": "stderr",
     "output_type": "stream",
     "text": [
      "/Users/golibsanaev/Library/CloudStorage/Dropbox/GitHub_gsanaev/forecasting-explaining-hotel-demand-in-eu/.venv-lstm/lib/python3.11/site-packages/tqdm/auto.py:21: TqdmWarning: IProgress not found. Please update jupyter and ipywidgets. See https://ipywidgets.readthedocs.io/en/stable/user_install.html\n",
      "  from .autonotebook import tqdm as notebook_tqdm\n"
     ]
    },
    {
     "ename": "FileNotFoundError",
     "evalue": "[Errno 2] No such file or directory: '../outputs/data/panel_final.parquet'",
     "output_type": "error",
     "traceback": [
      "\u001b[31m---------------------------------------------------------------------------\u001b[39m",
      "\u001b[31mFileNotFoundError\u001b[39m                         Traceback (most recent call last)",
      "\u001b[36mCell\u001b[39m\u001b[36m \u001b[39m\u001b[32mIn[1]\u001b[39m\u001b[32m, line 26\u001b[39m\n\u001b[32m     23\u001b[39m MODEL_DIR = Path(\u001b[33m\"\u001b[39m\u001b[33m../outputs/models\u001b[39m\u001b[33m\"\u001b[39m)\n\u001b[32m     25\u001b[39m \u001b[38;5;66;03m# --- Load panel data and predictions ---\u001b[39;00m\n\u001b[32m---> \u001b[39m\u001b[32m26\u001b[39m panel = \u001b[43mpd\u001b[49m\u001b[43m.\u001b[49m\u001b[43mread_parquet\u001b[49m\u001b[43m(\u001b[49m\u001b[43mDATA_DIR\u001b[49m\u001b[43m \u001b[49m\u001b[43m/\u001b[49m\u001b[43m \u001b[49m\u001b[33;43m\"\u001b[39;49m\u001b[33;43mpanel_final.parquet\u001b[39;49m\u001b[33;43m\"\u001b[39;49m\u001b[43m)\u001b[49m\n\u001b[32m     27\u001b[39m panel[\u001b[33m\"\u001b[39m\u001b[33myear\u001b[39m\u001b[33m\"\u001b[39m] = panel[\u001b[33m\"\u001b[39m\u001b[33myear\u001b[39m\u001b[33m\"\u001b[39m].astype(\u001b[38;5;28mint\u001b[39m)\n\u001b[32m     28\u001b[39m panel[\u001b[33m\"\u001b[39m\u001b[33mregion\u001b[39m\u001b[33m\"\u001b[39m] = panel[\u001b[33m\"\u001b[39m\u001b[33mregion\u001b[39m\u001b[33m\"\u001b[39m].astype(\u001b[38;5;28mstr\u001b[39m)\n",
      "\u001b[36mFile \u001b[39m\u001b[32m~/Library/CloudStorage/Dropbox/GitHub_gsanaev/forecasting-explaining-hotel-demand-in-eu/.venv-lstm/lib/python3.11/site-packages/pandas/io/parquet.py:669\u001b[39m, in \u001b[36mread_parquet\u001b[39m\u001b[34m(path, engine, columns, storage_options, use_nullable_dtypes, dtype_backend, filesystem, filters, **kwargs)\u001b[39m\n\u001b[32m    666\u001b[39m     use_nullable_dtypes = \u001b[38;5;28;01mFalse\u001b[39;00m\n\u001b[32m    667\u001b[39m check_dtype_backend(dtype_backend)\n\u001b[32m--> \u001b[39m\u001b[32m669\u001b[39m \u001b[38;5;28;01mreturn\u001b[39;00m \u001b[43mimpl\u001b[49m\u001b[43m.\u001b[49m\u001b[43mread\u001b[49m\u001b[43m(\u001b[49m\n\u001b[32m    670\u001b[39m \u001b[43m    \u001b[49m\u001b[43mpath\u001b[49m\u001b[43m,\u001b[49m\n\u001b[32m    671\u001b[39m \u001b[43m    \u001b[49m\u001b[43mcolumns\u001b[49m\u001b[43m=\u001b[49m\u001b[43mcolumns\u001b[49m\u001b[43m,\u001b[49m\n\u001b[32m    672\u001b[39m \u001b[43m    \u001b[49m\u001b[43mfilters\u001b[49m\u001b[43m=\u001b[49m\u001b[43mfilters\u001b[49m\u001b[43m,\u001b[49m\n\u001b[32m    673\u001b[39m \u001b[43m    \u001b[49m\u001b[43mstorage_options\u001b[49m\u001b[43m=\u001b[49m\u001b[43mstorage_options\u001b[49m\u001b[43m,\u001b[49m\n\u001b[32m    674\u001b[39m \u001b[43m    \u001b[49m\u001b[43muse_nullable_dtypes\u001b[49m\u001b[43m=\u001b[49m\u001b[43muse_nullable_dtypes\u001b[49m\u001b[43m,\u001b[49m\n\u001b[32m    675\u001b[39m \u001b[43m    \u001b[49m\u001b[43mdtype_backend\u001b[49m\u001b[43m=\u001b[49m\u001b[43mdtype_backend\u001b[49m\u001b[43m,\u001b[49m\n\u001b[32m    676\u001b[39m \u001b[43m    \u001b[49m\u001b[43mfilesystem\u001b[49m\u001b[43m=\u001b[49m\u001b[43mfilesystem\u001b[49m\u001b[43m,\u001b[49m\n\u001b[32m    677\u001b[39m \u001b[43m    \u001b[49m\u001b[43m*\u001b[49m\u001b[43m*\u001b[49m\u001b[43mkwargs\u001b[49m\u001b[43m,\u001b[49m\n\u001b[32m    678\u001b[39m \u001b[43m\u001b[49m\u001b[43m)\u001b[49m\n",
      "\u001b[36mFile \u001b[39m\u001b[32m~/Library/CloudStorage/Dropbox/GitHub_gsanaev/forecasting-explaining-hotel-demand-in-eu/.venv-lstm/lib/python3.11/site-packages/pandas/io/parquet.py:258\u001b[39m, in \u001b[36mPyArrowImpl.read\u001b[39m\u001b[34m(self, path, columns, filters, use_nullable_dtypes, dtype_backend, storage_options, filesystem, **kwargs)\u001b[39m\n\u001b[32m    256\u001b[39m \u001b[38;5;28;01mif\u001b[39;00m manager == \u001b[33m\"\u001b[39m\u001b[33marray\u001b[39m\u001b[33m\"\u001b[39m:\n\u001b[32m    257\u001b[39m     to_pandas_kwargs[\u001b[33m\"\u001b[39m\u001b[33msplit_blocks\u001b[39m\u001b[33m\"\u001b[39m] = \u001b[38;5;28;01mTrue\u001b[39;00m\n\u001b[32m--> \u001b[39m\u001b[32m258\u001b[39m path_or_handle, handles, filesystem = \u001b[43m_get_path_or_handle\u001b[49m\u001b[43m(\u001b[49m\n\u001b[32m    259\u001b[39m \u001b[43m    \u001b[49m\u001b[43mpath\u001b[49m\u001b[43m,\u001b[49m\n\u001b[32m    260\u001b[39m \u001b[43m    \u001b[49m\u001b[43mfilesystem\u001b[49m\u001b[43m,\u001b[49m\n\u001b[32m    261\u001b[39m \u001b[43m    \u001b[49m\u001b[43mstorage_options\u001b[49m\u001b[43m=\u001b[49m\u001b[43mstorage_options\u001b[49m\u001b[43m,\u001b[49m\n\u001b[32m    262\u001b[39m \u001b[43m    \u001b[49m\u001b[43mmode\u001b[49m\u001b[43m=\u001b[49m\u001b[33;43m\"\u001b[39;49m\u001b[33;43mrb\u001b[39;49m\u001b[33;43m\"\u001b[39;49m\u001b[43m,\u001b[49m\n\u001b[32m    263\u001b[39m \u001b[43m\u001b[49m\u001b[43m)\u001b[49m\n\u001b[32m    264\u001b[39m \u001b[38;5;28;01mtry\u001b[39;00m:\n\u001b[32m    265\u001b[39m     pa_table = \u001b[38;5;28mself\u001b[39m.api.parquet.read_table(\n\u001b[32m    266\u001b[39m         path_or_handle,\n\u001b[32m    267\u001b[39m         columns=columns,\n\u001b[32m   (...)\u001b[39m\u001b[32m    270\u001b[39m         **kwargs,\n\u001b[32m    271\u001b[39m     )\n",
      "\u001b[36mFile \u001b[39m\u001b[32m~/Library/CloudStorage/Dropbox/GitHub_gsanaev/forecasting-explaining-hotel-demand-in-eu/.venv-lstm/lib/python3.11/site-packages/pandas/io/parquet.py:141\u001b[39m, in \u001b[36m_get_path_or_handle\u001b[39m\u001b[34m(path, fs, storage_options, mode, is_dir)\u001b[39m\n\u001b[32m    131\u001b[39m handles = \u001b[38;5;28;01mNone\u001b[39;00m\n\u001b[32m    132\u001b[39m \u001b[38;5;28;01mif\u001b[39;00m (\n\u001b[32m    133\u001b[39m     \u001b[38;5;129;01mnot\u001b[39;00m fs\n\u001b[32m    134\u001b[39m     \u001b[38;5;129;01mand\u001b[39;00m \u001b[38;5;129;01mnot\u001b[39;00m is_dir\n\u001b[32m   (...)\u001b[39m\u001b[32m    139\u001b[39m     \u001b[38;5;66;03m# fsspec resources can also point to directories\u001b[39;00m\n\u001b[32m    140\u001b[39m     \u001b[38;5;66;03m# this branch is used for example when reading from non-fsspec URLs\u001b[39;00m\n\u001b[32m--> \u001b[39m\u001b[32m141\u001b[39m     handles = \u001b[43mget_handle\u001b[49m\u001b[43m(\u001b[49m\n\u001b[32m    142\u001b[39m \u001b[43m        \u001b[49m\u001b[43mpath_or_handle\u001b[49m\u001b[43m,\u001b[49m\u001b[43m \u001b[49m\u001b[43mmode\u001b[49m\u001b[43m,\u001b[49m\u001b[43m \u001b[49m\u001b[43mis_text\u001b[49m\u001b[43m=\u001b[49m\u001b[38;5;28;43;01mFalse\u001b[39;49;00m\u001b[43m,\u001b[49m\u001b[43m \u001b[49m\u001b[43mstorage_options\u001b[49m\u001b[43m=\u001b[49m\u001b[43mstorage_options\u001b[49m\n\u001b[32m    143\u001b[39m \u001b[43m    \u001b[49m\u001b[43m)\u001b[49m\n\u001b[32m    144\u001b[39m     fs = \u001b[38;5;28;01mNone\u001b[39;00m\n\u001b[32m    145\u001b[39m     path_or_handle = handles.handle\n",
      "\u001b[36mFile \u001b[39m\u001b[32m~/Library/CloudStorage/Dropbox/GitHub_gsanaev/forecasting-explaining-hotel-demand-in-eu/.venv-lstm/lib/python3.11/site-packages/pandas/io/common.py:882\u001b[39m, in \u001b[36mget_handle\u001b[39m\u001b[34m(path_or_buf, mode, encoding, compression, memory_map, is_text, errors, storage_options)\u001b[39m\n\u001b[32m    873\u001b[39m         handle = \u001b[38;5;28mopen\u001b[39m(\n\u001b[32m    874\u001b[39m             handle,\n\u001b[32m    875\u001b[39m             ioargs.mode,\n\u001b[32m   (...)\u001b[39m\u001b[32m    878\u001b[39m             newline=\u001b[33m\"\u001b[39m\u001b[33m\"\u001b[39m,\n\u001b[32m    879\u001b[39m         )\n\u001b[32m    880\u001b[39m     \u001b[38;5;28;01melse\u001b[39;00m:\n\u001b[32m    881\u001b[39m         \u001b[38;5;66;03m# Binary mode\u001b[39;00m\n\u001b[32m--> \u001b[39m\u001b[32m882\u001b[39m         handle = \u001b[38;5;28;43mopen\u001b[39;49m\u001b[43m(\u001b[49m\u001b[43mhandle\u001b[49m\u001b[43m,\u001b[49m\u001b[43m \u001b[49m\u001b[43mioargs\u001b[49m\u001b[43m.\u001b[49m\u001b[43mmode\u001b[49m\u001b[43m)\u001b[49m\n\u001b[32m    883\u001b[39m     handles.append(handle)\n\u001b[32m    885\u001b[39m \u001b[38;5;66;03m# Convert BytesIO or file objects passed with an encoding\u001b[39;00m\n",
      "\u001b[31mFileNotFoundError\u001b[39m: [Errno 2] No such file or directory: '../outputs/data/panel_final.parquet'"
     ]
    }
   ],
   "source": [
    "# ============================================================\n",
    "# 🧩 Notebook 5 — Robustness and Policy Counterfactuals\n",
    "# ============================================================\n",
    "\n",
    "import pandas as pd\n",
    "import numpy as np\n",
    "from pathlib import Path\n",
    "import matplotlib.pyplot as plt\n",
    "import seaborn as sns\n",
    "from linearmodels import PanelOLS\n",
    "import statsmodels.api as sm\n",
    "import joblib\n",
    "import shap\n",
    "from xgboost import XGBRegressor\n",
    "from lightgbm import LGBMRegressor\n",
    "\n",
    "# Display settings\n",
    "sns.set_style(\"whitegrid\")\n",
    "plt.rcParams.update({\"figure.dpi\":120, \"axes.titlesize\":13, \"axes.labelsize\":11})\n",
    "\n",
    "# --- Paths ---\n",
    "DATA_DIR = Path(\"../outputs/data\")\n",
    "MODEL_DIR = Path(\"../outputs/models\")\n",
    "\n",
    "# --- Load panel data and predictions ---\n",
    "panel = pd.read_parquet(DATA_DIR / \"panel_final.parquet\")\n",
    "panel[\"year\"] = panel[\"year\"].astype(int)\n",
    "panel[\"region\"] = panel[\"region\"].astype(str)\n",
    "\n",
    "print(f\"✅ Loaded panel with {len(panel):,} rows and {panel.shape[1]} columns\")\n",
    "\n",
    "# --- Load trained models ---\n",
    "xgb_model = joblib.load(MODEL_DIR / \"xgb_model.pkl\")\n",
    "lgbm_model = joblib.load(MODEL_DIR / \"lgbm_model.pkl\")"
   ]
  },
  {
   "cell_type": "markdown",
   "id": "ef23d374",
   "metadata": {},
   "source": [
    "### 🟩 5.1 Placebo & Pre-Trend Tests"
   ]
  },
  {
   "cell_type": "code",
   "execution_count": null,
   "id": "fd6af8a9",
   "metadata": {},
   "outputs": [],
   "source": [
    "# ============================================================\n",
    "# 🔍 5.1 Placebo & Pre-Trend Tests\n",
    "# ============================================================\n",
    "\n",
    "# Define fake treatment year (placebo)\n",
    "placebo_year = 2018\n",
    "panel[\"treated\"] = panel[\"region\"].isin([\"IT\",\"ES\",\"FR\"]).astype(int)\n",
    "panel[\"post_placebo\"] = (panel[\"year\"] >= placebo_year).astype(int)\n",
    "panel[\"did_placebo\"] = panel[\"treated\"] * panel[\"post_placebo\"]\n",
    "\n",
    "# Run placebo DiD\n",
    "y = panel[\"nights_spent\"]\n",
    "X = sm.add_constant(panel[[\"treated\", \"post_placebo\", \"did_placebo\"]])\n",
    "mod_placebo = PanelOLS(y, X, entity_effects=True, time_effects=True)\n",
    "res_placebo = mod_placebo.fit(cov_type=\"clustered\", clusters=panel[\"region\"])\n",
    "print(res_placebo.summary)"
   ]
  },
  {
   "cell_type": "markdown",
   "id": "d929c2f8",
   "metadata": {},
   "source": [
    "### 🟩 5.2 Alternative Control Groups"
   ]
  },
  {
   "cell_type": "code",
   "execution_count": null,
   "id": "778ea72d",
   "metadata": {},
   "outputs": [],
   "source": [
    "# ============================================================\n",
    "# 🧪 5.2 Alternative Control Groups\n",
    "# ============================================================\n",
    "\n",
    "# Drop outliers / special cases\n",
    "alt = panel[~panel[\"region\"].isin([\"MT\", \"CY\", \"LU\"])].copy()\n",
    "\n",
    "alt[\"did\"] = alt[\"treated\"] * (alt[\"year\"] >= 2020)\n",
    "\n",
    "y = alt[\"nights_spent\"]\n",
    "X = sm.add_constant(alt[[\"treated\", \"did\"]])\n",
    "\n",
    "mod_alt = PanelOLS(y, X, entity_effects=True, time_effects=True)\n",
    "res_alt = mod_alt.fit(cov_type=\"clustered\", clusters=alt[\"region\"])\n",
    "print(res_alt.summary)"
   ]
  },
  {
   "cell_type": "markdown",
   "id": "680cba93",
   "metadata": {},
   "source": [
    "### 🟩 5.3 Sensitivity and Specification Checks"
   ]
  },
  {
   "cell_type": "code",
   "execution_count": null,
   "id": "26f2af86",
   "metadata": {},
   "outputs": [],
   "source": [
    "# ============================================================\n",
    "# ⚙️ 5.3 Sensitivity & Specification Checks\n",
    "# ============================================================\n",
    "\n",
    "from sklearn.metrics import mean_squared_error, mean_absolute_error\n",
    "def rmse(y, yhat): return np.sqrt(mean_squared_error(y, yhat))\n",
    "\n",
    "results = []\n",
    "for depth in [4,6,8]:\n",
    "    xgb_temp = XGBRegressor(\n",
    "        n_estimators=400, learning_rate=0.05, max_depth=depth,\n",
    "        subsample=0.9, colsample_bytree=0.9, random_state=42\n",
    "    )\n",
    "    X = panel[[c for c in panel.columns if c.endswith((\"_lag1\",\"_lag2\",\"_lag3\",\"_mom\"))]]\n",
    "    y = panel[\"nights_spent\"]\n",
    "    xgb_temp.fit(X, y)\n",
    "    panel[f\"yhat_depth{depth}\"] = xgb_temp.predict(X)\n",
    "    results.append({\n",
    "        \"max_depth\": depth,\n",
    "        \"RMSE\": rmse(y, panel[f\"yhat_depth{depth}\"]),\n",
    "        \"MAE\": mean_absolute_error(y, panel[f\"yhat_depth{depth}\"])\n",
    "    })\n",
    "\n",
    "pd.DataFrame(results)"
   ]
  },
  {
   "cell_type": "markdown",
   "id": "1c921c4a",
   "metadata": {},
   "source": [
    "### 🟩 5.4 Synthetic Control (Optional)"
   ]
  },
  {
   "cell_type": "code",
   "execution_count": null,
   "id": "724dc5f1",
   "metadata": {},
   "outputs": [],
   "source": [
    "# ============================================================\n",
    "# 🧮 5.4 Synthetic Control — Example\n",
    "# ============================================================\n",
    "# (Simplified demo: construct synthetic control for Italy)\n",
    "\n",
    "donor = panel[~panel[\"region\"].isin([\"IT\"])].pivot(index=\"year\", columns=\"region\", values=\"nights_spent\")\n",
    "target = panel[panel[\"region\"]==\"IT\"].set_index(\"year\")[\"nights_spent\"]\n",
    "\n",
    "weights = donor.loc[donor.index<2020].corrwith(target[donor.index<2020])\n",
    "weights = np.maximum(weights,0)\n",
    "weights /= weights.sum()\n",
    "\n",
    "synth = (donor * weights).sum(axis=1)\n",
    "plt.figure(figsize=(7,4))\n",
    "plt.plot(target, label=\"Italy (Actual)\")\n",
    "plt.plot(synth, label=\"Synthetic Italy\", linestyle=\"--\")\n",
    "plt.axvline(2020, color=\"red\", linestyle=\"--\")\n",
    "plt.title(\"Synthetic Control vs Actual: Italy\")\n",
    "plt.legend()\n",
    "plt.show()"
   ]
  },
  {
   "cell_type": "markdown",
   "id": "9b1fac20",
   "metadata": {},
   "source": [
    "### 🟩 5.5 Policy Scenario Forecasting"
   ]
  },
  {
   "cell_type": "code",
   "execution_count": null,
   "id": "8f8ea0ef",
   "metadata": {},
   "outputs": [],
   "source": [
    "# ============================================================\n",
    "# 🌍 5.5 Policy Scenario Forecasting\n",
    "# ============================================================\n",
    "\n",
    "future = panel[panel[\"year\"]>=2020].copy()\n",
    "X_future = future[[c for c in panel.columns if c.endswith((\"_lag1\",\"_lag2\",\"_lag3\",\"_mom\"))]]\n",
    "\n",
    "future[\"yhat_xgb\"] = xgb_model.predict(X_future)\n",
    "future[\"yhat_lgbm\"] = lgbm_model.predict(X_future)\n",
    "future[\"counterfactual\"] = future[\"yhat_xgb\"] * 1.1  # simulate +10% tourism policy boost\n",
    "\n",
    "plt.figure(figsize=(8,4))\n",
    "for reg in [\"IT\",\"ES\",\"FR\"]:\n",
    "    subset = future[future[\"region\"]==reg]\n",
    "    plt.plot(subset[\"year\"], subset[\"yhat_xgb\"], label=f\"{reg} – baseline\")\n",
    "    plt.plot(subset[\"year\"], subset[\"counterfactual\"], linestyle=\"--\", label=f\"{reg} – +10% policy\")\n",
    "\n",
    "plt.axvline(2020, color=\"red\", linestyle=\"--\")\n",
    "plt.title(\"Policy Counterfactual: Tourism Boost Scenario\")\n",
    "plt.ylabel(\"Predicted Nights Spent\")\n",
    "plt.legend()\n",
    "plt.show()"
   ]
  },
  {
   "cell_type": "markdown",
   "id": "73a84e91",
   "metadata": {},
   "source": [
    "### 🟩 5.6 Final Summary & Export"
   ]
  },
  {
   "cell_type": "code",
   "execution_count": null,
   "id": "2a1d79f3",
   "metadata": {},
   "outputs": [],
   "source": [
    "# ============================================================\n",
    "# 📦 5.6 Final Summary & Export\n",
    "# ============================================================\n",
    "\n",
    "summary = {\n",
    "    \"Placebo DiD\": res_placebo.params[\"did_placebo\"],\n",
    "    \"Alternative Controls DiD\": res_alt.params[\"did\"],\n",
    "    \"Best XGB Depth\": min(results, key=lambda r: r[\"RMSE\"])[\"max_depth\"]\n",
    "}\n",
    "pd.DataFrame([summary]).T.rename(columns={0: \"Value\"}).to_csv(\"../outputs/final_summary.csv\")\n",
    "print(\"✅ Final summary exported.\")"
   ]
  }
 ],
 "metadata": {
  "kernelspec": {
   "display_name": ".venv-lstm (3.11.5)",
   "language": "python",
   "name": "python3"
  },
  "language_info": {
   "codemirror_mode": {
    "name": "ipython",
    "version": 3
   },
   "file_extension": ".py",
   "mimetype": "text/x-python",
   "name": "python",
   "nbconvert_exporter": "python",
   "pygments_lexer": "ipython3",
   "version": "3.11.5"
  }
 },
 "nbformat": 4,
 "nbformat_minor": 5
}
